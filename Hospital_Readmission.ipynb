{
  "nbformat": 4,
  "nbformat_minor": 0,
  "metadata": {
    "colab": {
      "name": "Hospital_Readmission.ipynb",
      "provenance": [],
      "collapsed_sections": [],
      "include_colab_link": true
    },
    "kernelspec": {
      "name": "python3",
      "display_name": "Python 3"
    }
  },
  "cells": [
    {
      "cell_type": "markdown",
      "metadata": {
        "id": "view-in-github",
        "colab_type": "text"
      },
      "source": [
        "<a href=\"https://colab.research.google.com/github/giorgioatanasov/Hospital-Readmission/blob/master/Hospital_Readmission.ipynb\" target=\"_parent\"><img src=\"https://colab.research.google.com/assets/colab-badge.svg\" alt=\"Open In Colab\"/></a>"
      ]
    },
    {
      "cell_type": "code",
      "metadata": {
        "id": "eR2_p7XTVliy",
        "colab_type": "code",
        "outputId": "57919a3f-88cf-44d3-b221-7b12582723bd",
        "colab": {
          "base_uri": "https://localhost:8080/",
          "height": 122
        }
      },
      "source": [
        "from google.colab import drive\n",
        "drive.mount('/content/drive')"
      ],
      "execution_count": 0,
      "outputs": [
        {
          "output_type": "stream",
          "text": [
            "Go to this URL in a browser: https://accounts.google.com/o/oauth2/auth?client_id=947318989803-6bn6qk8qdgf4n4g3pfee6491hc0brc4i.apps.googleusercontent.com&redirect_uri=urn%3aietf%3awg%3aoauth%3a2.0%3aoob&response_type=code&scope=email%20https%3a%2f%2fwww.googleapis.com%2fauth%2fdocs.test%20https%3a%2f%2fwww.googleapis.com%2fauth%2fdrive%20https%3a%2f%2fwww.googleapis.com%2fauth%2fdrive.photos.readonly%20https%3a%2f%2fwww.googleapis.com%2fauth%2fpeopleapi.readonly\n",
            "\n",
            "Enter your authorization code:\n",
            "··········\n",
            "Mounted at /content/drive\n"
          ],
          "name": "stdout"
        }
      ]
    },
    {
      "cell_type": "code",
      "metadata": {
        "id": "sxbRvucwmAJ9",
        "colab_type": "code",
        "colab": {}
      },
      "source": [
        "import IPython\n",
        "import numpy as np\n",
        "\n",
        "import sys\n",
        "sys.path.append('/content/drive/My Drive/Colab Notebooks/178Project')\n",
        "import mltools as ml\n",
        "import matplotlib.pyplot as plt\n",
        "import pandas as pd\n",
        "from sklearn.preprocessing import OneHotEncoder, LabelEncoder\n",
        "from sklearn.utils import shuffle\n",
        "from pandas.plotting import scatter_matrix\n",
        "import seaborn as sns\n",
        "from sklearn.model_selection import train_test_split\n",
        "from sklearn.tree import DecisionTreeClassifier as treeClassify\n",
        "from sklearn.neural_network import MLPClassifier\n",
        "from sklearn.neural_network import MLPRegressor\n",
        "from sklearn.preprocessing import MinMaxScaler\n",
        "from sklearn.metrics import classification_report,confusion_matrix, accuracy_score\n",
        "from sklearn.svm import SVC\n",
        "from sklearn.ensemble import RandomForestClassifier, GradientBoostingClassifier\n",
        "from sklearn.metrics import mean_squared_error\n",
        "from math import sqrt\n",
        "from sklearn.metrics import r2_score\n",
        "from sklearn.preprocessing import StandardScaler\n",
        "from sklearn.linear_model import LogisticRegression\n",
        "from sklearn.model_selection import GridSearchCV "
      ],
      "execution_count": 0,
      "outputs": []
    },
    {
      "cell_type": "markdown",
      "metadata": {
        "id": "WULjV9WHIwim",
        "colab_type": "text"
      },
      "source": [
        "# Data Preprocessing"
      ]
    },
    {
      "cell_type": "code",
      "metadata": {
        "id": "XaGe2zRE-NX_",
        "colab_type": "code",
        "colab": {}
      },
      "source": [
        "diabetes = pd.read_csv(\"/content/drive/My Drive/Colab Notebooks/178Project/dataset_diabetes/diabetic_data.csv\", skipinitialspace=True)\n",
        "d_copy = diabetes.copy(deep=True)\n",
        "\n",
        "\n",
        "d_copy['readmitted'] = d_copy['readmitted'].replace('>30', 0)\n",
        "d_copy['readmitted'] = d_copy['readmitted'].replace('<30', 1)\n",
        "d_copy['readmitted'] = d_copy['readmitted'].replace('NO', 2)\n",
        "d_copy = d_copy.replace('?',np.nan)\n",
        "output = d_copy['readmitted'].copy(deep=True)\n",
        "\n",
        "d_copy['output'] = output\n",
        "d_copy = d_copy.drop(columns=['diag_1', 'diag_2', 'diag_3', 'encounter_id', 'patient_nbr', 'readmitted'])\n",
        "\n",
        "\n",
        "numeric = d_copy.select_dtypes('number').columns\n",
        "categoric = d_copy.select_dtypes('object').columns\n",
        "\n",
        "d_copy['race'] = d_copy['race'].fillna('UNKNOWN')\n",
        "d_copy['payer_code'] = d_copy['payer_code'].fillna('UNKNOWN')\n",
        "d_copy['medical_specialty'] = d_copy['medical_specialty'].fillna('UNKNOWN')\n",
        "d_copy['weight'] = d_copy['weight'].fillna('UNKNOWN')\n",
        "\n",
        "top_10 = ['UNKNOWN','InternalMedicine','Emergency/Trauma', 'Family/GeneralPractice', 'Cardiology','Surgery-General' , 'Nephrology','Orthopedics',\\\n",
        "          'Orthopedics-Reconstructive','Radiologist']\n",
        "\n",
        "d_copy['med_spec'] = d_copy['medical_specialty'].copy()\n",
        "\n",
        "d_copy.loc[-d_copy.med_spec.isin(top_10),'med_spec'] = 'Other'\n",
        "\n",
        "\n",
        "le = LabelEncoder()\n",
        "X_2 = d_copy[categoric].apply(le.fit_transform)\n",
        "ohe = OneHotEncoder(sparse = False)\n",
        "X_train_ohe = ohe.fit_transform(X_2)\n",
        "\n",
        "\n",
        "catDf = pd.DataFrame(X_train_ohe) # CATEGORICAL DATA\n",
        "\n",
        "numDf = d_copy[numeric]\n",
        "numDf = numDf.drop(columns=['output']) # NUMERIC DATA\n",
        "\n",
        "X = pd.concat([numDf,catDf], axis=1)\n",
        "\n",
        "# XNumpy, YNumpy = ml.shuffleData(XNumpy, YNumpy)\n",
        "X_train, X_valid, y_train, y_valid = train_test_split(X, d_copy['output'] , test_size=0.30, random_state=1) # 70% training and 30% test\n",
        "\n",
        "\n",
        "X_trainSub = X_train[:5000]\n",
        "Y_trainSub = y_train[:5000]\n",
        "\n",
        "scaler  = StandardScaler()\n",
        "scaler.fit(X_train)\n",
        "X_train_tf = scaler.transform(X_train)\n",
        "X_valid_tf = scaler.transform(X_valid)\n",
        "# removes outliers within the data by normalizing it. "
      ],
      "execution_count": 0,
      "outputs": []
    },
    {
      "cell_type": "markdown",
      "metadata": {
        "id": "3k8ndFBvoAOx",
        "colab_type": "text"
      },
      "source": [
        "Plots"
      ]
    },
    {
      "cell_type": "markdown",
      "metadata": {
        "id": "x7xtQiRiH35Q",
        "colab_type": "text"
      },
      "source": [
        "# Data Representation\n"
      ]
    },
    {
      "cell_type": "code",
      "metadata": {
        "id": "vmCYfZ_voQXk",
        "colab_type": "code",
        "outputId": "4cb9d8e4-8007-4fbf-93f3-ecde1f82b996",
        "colab": {
          "base_uri": "https://localhost:8080/",
          "height": 352
        }
      },
      "source": [
        "fig, ax = plt.subplots(1, 1, figsize = (8, 5))\n",
        "labels=['0-10', '10-20', '20-30', '30-40', '40-50', '50-60', '60-70', '70-80', '80-90', '90-100']\n",
        "ax.scatter(d_copy['num_medications'], d_copy['age'])\n",
        "ax.set_yticklabels(labels)\n",
        "plt.xlabel('num_medications')\n",
        "plt.ylabel('age')"
      ],
      "execution_count": 0,
      "outputs": [
        {
          "output_type": "execute_result",
          "data": {
            "text/plain": [
              "Text(0, 0.5, 'age')"
            ]
          },
          "metadata": {
            "tags": []
          },
          "execution_count": 4
        },
        {
          "output_type": "display_data",
          "data": {
            "image/png": "[encoded data removed]",
            "text/plain": [
              "<Figure size 576x360 with 1 Axes>"
            ]
          },
          "metadata": {
            "tags": []
          }
        }
      ]
    },
    {
      "cell_type": "code",
      "metadata": {
        "id": "_ygzYnGQoUjs",
        "colab_type": "code",
        "outputId": "e5168310-bd15-413c-ef8a-666f96cb53c4",
        "colab": {
          "base_uri": "https://localhost:8080/",
          "height": 351
        }
      },
      "source": [
        "fig, ax = plt.subplots(1, 1, figsize = (10, 5))\n",
        "ax.scatter(d_copy['age'], d_copy['num_lab_procedures'])\n",
        "plt.xlabel('age')\n",
        "plt.ylabel('num_lab_procedures')"
      ],
      "execution_count": 0,
      "outputs": [
        {
          "output_type": "execute_result",
          "data": {
            "text/plain": [
              "Text(0, 0.5, 'num_lab_procedures')"
            ]
          },
          "metadata": {
            "tags": []
          },
          "execution_count": 5
        },
        {
          "output_type": "display_data",
          "data": {
            "image/png": "[encoded data removed]",
            "text/plain": [
              "<Figure size 720x360 with 1 Axes>"
            ]
          },
          "metadata": {
            "tags": []
          }
        }
      ]
    },
    {
      "cell_type": "code",
      "metadata": {
        "id": "XgnzI9IRohRl",
        "colab_type": "code",
        "outputId": "886abee4-a621-42fa-d02e-cb384dad2ee8",
        "colab": {
          "base_uri": "https://localhost:8080/",
          "height": 458
        }
      },
      "source": [
        "sns.jointplot(x = 'time_in_hospital', y = 'num_lab_procedures', data = d_copy, kind = \"reg\")"
      ],
      "execution_count": 0,
      "outputs": [
        {
          "output_type": "execute_result",
          "data": {
            "text/plain": [
              "<seaborn.axisgrid.JointGrid at 0x7f5916aac2b0>"
            ]
          },
          "metadata": {
            "tags": []
          },
          "execution_count": 6
        },
        {
          "output_type": "display_data",
          "data": {
            "image/png": "[encoded data removed]",
            "text/plain": [
              "<Figure size 432x432 with 3 Axes>"
            ]
          },
          "metadata": {
            "tags": []
          }
        }
      ]
    },
    {
      "cell_type": "code",
      "metadata": {
        "id": "bs4qComKoqDS",
        "colab_type": "code",
        "outputId": "688410b1-f73b-490c-c86b-c2eebe721d79",
        "colab": {
          "base_uri": "https://localhost:8080/",
          "height": 290
        }
      },
      "source": [
        "test = d_copy.loc[:, ('gender')]\n",
        "f, ax = plt.subplots(1, 1, figsize=(9, 4))\n",
        "labels = ['female', 'male']\n",
        "ax = test.value_counts().plot(kind='bar')\n",
        "ax.set_xticklabels(labels)\n",
        "\n",
        "for p in ax.patches:\n",
        "\n",
        "    ax.annotate(str(p.get_height()), (p.get_x() * 1.005, p.get_height() * 1.005))\n",
        "    \n",
        "    "
      ],
      "execution_count": 0,
      "outputs": [
        {
          "output_type": "display_data",
          "data": {
            "image/png": "[encoded data removed]",
            "text/plain": [
              "<Figure size 648x288 with 1 Axes>"
            ]
          },
          "metadata": {
            "tags": []
          }
        }
      ]
    },
    {
      "cell_type": "code",
      "metadata": {
        "id": "xc3gw3HCorxc",
        "colab_type": "code",
        "outputId": "7bc0c876-3b61-4ff6-8cb1-cf561b21ae29",
        "colab": {
          "base_uri": "https://localhost:8080/",
          "height": 458
        }
      },
      "source": [
        "sns.jointplot(x = 'time_in_hospital', y = 'num_medications', data = d_copy, kind = \"reg\")"
      ],
      "execution_count": 0,
      "outputs": [
        {
          "output_type": "execute_result",
          "data": {
            "text/plain": [
              "<seaborn.axisgrid.JointGrid at 0x7f5903494748>"
            ]
          },
          "metadata": {
            "tags": []
          },
          "execution_count": 8
        },
        {
          "output_type": "display_data",
          "data": {
            "image/png": "[encoded data removed]",
            "text/plain": [
              "<Figure size 432x432 with 3 Axes>"
            ]
          },
          "metadata": {
            "tags": []
          }
        }
      ]
    },
    {
      "cell_type": "code",
      "metadata": {
        "id": "nkK4O5SCouoZ",
        "colab_type": "code",
        "outputId": "4d7bd9a5-b777-44a3-c108-c8fcdc35ae68",
        "colab": {
          "base_uri": "https://localhost:8080/",
          "height": 296
        }
      },
      "source": [
        "sns.boxplot(x = 'age', y = 'time_in_hospital', data = d_copy)"
      ],
      "execution_count": 0,
      "outputs": [
        {
          "output_type": "execute_result",
          "data": {
            "text/plain": [
              "<matplotlib.axes._subplots.AxesSubplot at 0x7f5903257eb8>"
            ]
          },
          "metadata": {
            "tags": []
          },
          "execution_count": 9
        },
        {
          "output_type": "display_data",
          "data": {
            "image/png": "[encoded data removed]",
            "text/plain": [
              "<Figure size 432x288 with 1 Axes>"
            ]
          },
          "metadata": {
            "tags": []
          }
        }
      ]
    },
    {
      "cell_type": "code",
      "metadata": {
        "id": "exGXDk7MoxSI",
        "colab_type": "code",
        "outputId": "80739c2e-3a03-4d06-ba3f-b235eafc147a",
        "colab": {
          "base_uri": "https://localhost:8080/",
          "height": 297
        }
      },
      "source": [
        "sns.stripplot(x = 'num_medications', y = 'num_procedures', data = d_copy)"
      ],
      "execution_count": 0,
      "outputs": [
        {
          "output_type": "execute_result",
          "data": {
            "text/plain": [
              "<matplotlib.axes._subplots.AxesSubplot at 0x7f5903119e80>"
            ]
          },
          "metadata": {
            "tags": []
          },
          "execution_count": 10
        },
        {
          "output_type": "display_data",
          "data": {
            "image/png": "[encoded data removed]",
            "text/plain": [
              "<Figure size 432x288 with 1 Axes>"
            ]
          },
          "metadata": {
            "tags": []
          }
        }
      ]
    },
    {
      "cell_type": "code",
      "metadata": {
        "id": "ZpxEoi1Joy1X",
        "colab_type": "code",
        "outputId": "8f2d5a27-7831-40be-a62b-5fc5a90b7641",
        "colab": {
          "base_uri": "https://localhost:8080/",
          "height": 357
        }
      },
      "source": [
        "fig, ax = plt.subplots(1, 1, figsize = (10, 6))\n",
        "test = d_copy.loc[:, ('race')]\n",
        "labels = ['Caucasian', 'AfricanAmerican', 'unidentified', 'Other', 'Asian', 'Hispanic']\n",
        "test.value_counts().plot(kind='pie', labels=labels);\n",
        "ax = test.value_counts().plot(kind='pie', labels=labels);"
      ],
      "execution_count": 0,
      "outputs": [
        {
          "output_type": "display_data",
          "data": {
            "image/png": "[encoded data removed]",
            "text/plain": [
              "<Figure size 720x432 with 1 Axes>"
            ]
          },
          "metadata": {
            "tags": []
          }
        }
      ]
    },
    {
      "cell_type": "code",
      "metadata": {
        "id": "PQxX2xpro4zY",
        "colab_type": "code",
        "outputId": "a9e6e2a5-2e28-472c-8ef7-16e9f4929a56",
        "colab": {
          "base_uri": "https://localhost:8080/",
          "height": 914
        }
      },
      "source": [
        "boxData = diabetes[[ 'time_in_hospital', 'num_lab_procedures', 'num_procedures', 'num_medications', 'number_outpatient','number_emergency', 'number_inpatient', 'number_diagnoses', 'readmitted']]\n",
        "boxData.plot(kind='box', subplots=True, layout=(3,4),figsize=(15, 13), sharex=False, sharey=False)\n",
        "plt.show()"
      ],
      "execution_count": 0,
      "outputs": [
        {
          "output_type": "stream",
          "text": [
            "/usr/local/lib/python3.6/dist-packages/pandas/plotting/_matplotlib/tools.py:307: MatplotlibDeprecationWarning: \n",
            "The rowNum attribute was deprecated in Matplotlib 3.2 and will be removed two minor releases later. Use ax.get_subplotspec().rowspan.start instead.\n",
            "  layout[ax.rowNum, ax.colNum] = ax.get_visible()\n",
            "/usr/local/lib/python3.6/dist-packages/pandas/plotting/_matplotlib/tools.py:307: MatplotlibDeprecationWarning: \n",
            "The colNum attribute was deprecated in Matplotlib 3.2 and will be removed two minor releases later. Use ax.get_subplotspec().colspan.start instead.\n",
            "  layout[ax.rowNum, ax.colNum] = ax.get_visible()\n",
            "/usr/local/lib/python3.6/dist-packages/pandas/plotting/_matplotlib/tools.py:313: MatplotlibDeprecationWarning: \n",
            "The rowNum attribute was deprecated in Matplotlib 3.2 and will be removed two minor releases later. Use ax.get_subplotspec().rowspan.start instead.\n",
            "  if not layout[ax.rowNum + 1, ax.colNum]:\n",
            "/usr/local/lib/python3.6/dist-packages/pandas/plotting/_matplotlib/tools.py:313: MatplotlibDeprecationWarning: \n",
            "The colNum attribute was deprecated in Matplotlib 3.2 and will be removed two minor releases later. Use ax.get_subplotspec().colspan.start instead.\n",
            "  if not layout[ax.rowNum + 1, ax.colNum]:\n",
            "/usr/local/lib/python3.6/dist-packages/pandas/plotting/_matplotlib/tools.py:307: MatplotlibDeprecationWarning: \n",
            "The rowNum attribute was deprecated in Matplotlib 3.2 and will be removed two minor releases later. Use ax.get_subplotspec().rowspan.start instead.\n",
            "  layout[ax.rowNum, ax.colNum] = ax.get_visible()\n",
            "/usr/local/lib/python3.6/dist-packages/pandas/plotting/_matplotlib/tools.py:307: MatplotlibDeprecationWarning: \n",
            "The colNum attribute was deprecated in Matplotlib 3.2 and will be removed two minor releases later. Use ax.get_subplotspec().colspan.start instead.\n",
            "  layout[ax.rowNum, ax.colNum] = ax.get_visible()\n",
            "/usr/local/lib/python3.6/dist-packages/pandas/plotting/_matplotlib/tools.py:313: MatplotlibDeprecationWarning: \n",
            "The rowNum attribute was deprecated in Matplotlib 3.2 and will be removed two minor releases later. Use ax.get_subplotspec().rowspan.start instead.\n",
            "  if not layout[ax.rowNum + 1, ax.colNum]:\n",
            "/usr/local/lib/python3.6/dist-packages/pandas/plotting/_matplotlib/tools.py:313: MatplotlibDeprecationWarning: \n",
            "The colNum attribute was deprecated in Matplotlib 3.2 and will be removed two minor releases later. Use ax.get_subplotspec().colspan.start instead.\n",
            "  if not layout[ax.rowNum + 1, ax.colNum]:\n"
          ],
          "name": "stderr"
        },
        {
          "output_type": "display_data",
          "data": {
            "image/png": "[encoded data removed]",
            "text/plain": [
              "<Figure size 1080x936 with 12 Axes>"
            ]
          },
          "metadata": {
            "tags": []
          }
        }
      ]
    },
    {
      "cell_type": "code",
      "metadata": {
        "id": "JoVzx96qTrto",
        "colab_type": "code",
        "outputId": "ed4b4564-dd07-4cee-a529-8d96919fc0c5",
        "colab": {
          "base_uri": "https://localhost:8080/",
          "height": 703
        }
      },
      "source": [
        "densityData = diabetes[['admission_type_id', 'discharge_disposition_id', 'admission_source_id']]\n",
        "densityData.hist(figsize=(10,8))\n",
        "plt.show()"
      ],
      "execution_count": 0,
      "outputs": [
        {
          "output_type": "stream",
          "text": [
            "/usr/local/lib/python3.6/dist-packages/pandas/plotting/_matplotlib/tools.py:307: MatplotlibDeprecationWarning: \n",
            "The rowNum attribute was deprecated in Matplotlib 3.2 and will be removed two minor releases later. Use ax.get_subplotspec().rowspan.start instead.\n",
            "  layout[ax.rowNum, ax.colNum] = ax.get_visible()\n",
            "/usr/local/lib/python3.6/dist-packages/pandas/plotting/_matplotlib/tools.py:307: MatplotlibDeprecationWarning: \n",
            "The colNum attribute was deprecated in Matplotlib 3.2 and will be removed two minor releases later. Use ax.get_subplotspec().colspan.start instead.\n",
            "  layout[ax.rowNum, ax.colNum] = ax.get_visible()\n",
            "/usr/local/lib/python3.6/dist-packages/pandas/plotting/_matplotlib/tools.py:313: MatplotlibDeprecationWarning: \n",
            "The rowNum attribute was deprecated in Matplotlib 3.2 and will be removed two minor releases later. Use ax.get_subplotspec().rowspan.start instead.\n",
            "  if not layout[ax.rowNum + 1, ax.colNum]:\n",
            "/usr/local/lib/python3.6/dist-packages/pandas/plotting/_matplotlib/tools.py:313: MatplotlibDeprecationWarning: \n",
            "The colNum attribute was deprecated in Matplotlib 3.2 and will be removed two minor releases later. Use ax.get_subplotspec().colspan.start instead.\n",
            "  if not layout[ax.rowNum + 1, ax.colNum]:\n"
          ],
          "name": "stderr"
        },
        {
          "output_type": "display_data",
          "data": {
            "image/png": "[encoded data removed]",
            "text/plain": [
              "<Figure size 720x576 with 4 Axes>"
            ]
          },
          "metadata": {
            "tags": []
          }
        }
      ]
    },
    {
      "cell_type": "markdown",
      "metadata": {
        "id": "VCZC6qjKo8Lk",
        "colab_type": "text"
      },
      "source": [
        "Another useful way to review the distribution of each attribute is to use Box and Whisker Plots or boxplots for short.\n",
        "\n",
        "Boxplots summarize the distribution of each attribute, drawing a line for the median (middle value) and a box around the 25th and 75th percentiles (the middle 50% of the data). The whiskers give an idea of the spread of the data and dots outside of the whiskers show candidate outlier values (values that are 1.5 times greater than the size of spread of the middle 50% of the data)\n",
        "\n",
        "Correlation Matrix Plot\n",
        "\n",
        "Correlation gives an indication of how related the changes are between two variables. If two variables change in the same direction they are positively correlated. If the change in opposite directions together (one goes up, one goes down), then they are negatively correlated.\n",
        "\n",
        "You can calculate the correlation between each pair of attributes. This is called a correlation matrix. You can then plot the correlation matrix and get an idea of which variables have a high correlation with each other.\n",
        "\n",
        "This is useful to know, because some machine learning algorithms like linear and logistic regression can have poor performance if there are highly correlated input variables in your data.\n",
        "\n",
        "We can see that the matrix is symmetrical, i.e. the bottom left of the matrix is the same as the top right. This is useful as we can see two different views on the same data in one plot. We can also see that each variable is perfectly positively correlated with each other (as you would expected) in the diagonal line from top left to bottom right."
      ]
    },
    {
      "cell_type": "markdown",
      "metadata": {
        "id": "UpyInikPRTm7",
        "colab_type": "text"
      },
      "source": [
        "# Decision Trees"
      ]
    },
    {
      "cell_type": "code",
      "metadata": {
        "id": "79FCr_bTcKYZ",
        "colab_type": "code",
        "outputId": "411c6e72-d9d1-4991-8315-10aeaaf78713",
        "colab": {
          "base_uri": "https://localhost:8080/",
          "height": 1000
        }
      },
      "source": [
        "for dep in range(1, 28):\n",
        "  print(\"Maximum Depth: \" + str(dep))\n",
        "  tree = treeClassify(max_depth= dep, random_state=0)\n",
        "  tree.fit(X_train_tf, y_train)\n",
        "  y_pred = tree.predict(X_valid_tf)\n",
        "  # print(\"Accuracy:\",metrics.accuracy_score(y_valid, y_pred))\n",
        "  print(\"Accuracy on training set: {:f}\".format(tree.score(X_train_tf, y_train)))\n",
        "  print(\"Accuracy on validation set: {:f}\".format(tree.score(X_valid_tf, y_valid)))"
      ],
      "execution_count": 0,
      "outputs": [
        {
          "output_type": "stream",
          "text": [
            "Maximum Depth: 1\n",
            "Accuracy on training set: 0.557443\n",
            "Accuracy on validation set: 0.560203\n",
            "Maximum Depth: 2\n",
            "Accuracy on training set: 0.563591\n",
            "Accuracy on validation set: 0.567606\n",
            "Maximum Depth: 3\n",
            "Accuracy on training set: 0.567452\n",
            "Accuracy on validation set: 0.571241\n",
            "Maximum Depth: 4\n",
            "Accuracy on training set: 0.574625\n",
            "Accuracy on validation set: 0.580151\n",
            "Maximum Depth: 5\n",
            "Accuracy on training set: 0.576282\n",
            "Accuracy on validation set: 0.577989\n",
            "Maximum Depth: 6\n",
            "Accuracy on training set: 0.579749\n",
            "Accuracy on validation set: 0.579004\n",
            "Maximum Depth: 7\n",
            "Accuracy on training set: 0.582908\n",
            "Accuracy on validation set: 0.578611\n",
            "Maximum Depth: 8\n",
            "Accuracy on training set: 0.587554\n",
            "Accuracy on validation set: 0.577301\n",
            "Maximum Depth: 9\n",
            "Accuracy on training set: 0.594433\n",
            "Accuracy on validation set: 0.576580\n",
            "Maximum Depth: 10\n",
            "Accuracy on training set: 0.602266\n",
            "Accuracy on validation set: 0.571798\n",
            "Maximum Depth: 11\n",
            "Accuracy on training set: 0.613187\n",
            "Accuracy on validation set: 0.569604\n",
            "Maximum Depth: 12\n",
            "Accuracy on training set: 0.627028\n",
            "Accuracy on validation set: 0.566426\n",
            "Maximum Depth: 13\n",
            "Accuracy on training set: 0.642625\n",
            "Accuracy on validation set: 0.563085\n",
            "Maximum Depth: 14\n",
            "Accuracy on training set: 0.660228\n",
            "Accuracy on validation set: 0.556109\n",
            "Maximum Depth: 15\n",
            "Accuracy on training set: 0.680246\n",
            "Accuracy on validation set: 0.554406\n",
            "Maximum Depth: 16\n",
            "Accuracy on training set: 0.701668\n",
            "Accuracy on validation set: 0.546217\n",
            "Maximum Depth: 17\n",
            "Accuracy on training set: 0.724255\n",
            "Accuracy on validation set: 0.540911\n",
            "Maximum Depth: 18\n",
            "Accuracy on training set: 0.746322\n",
            "Accuracy on validation set: 0.536554\n",
            "Maximum Depth: 19\n",
            "Accuracy on training set: 0.768965\n",
            "Accuracy on validation set: 0.526400\n",
            "Maximum Depth: 20\n",
            "Accuracy on training set: 0.791875\n",
            "Accuracy on validation set: 0.523452\n",
            "Maximum Depth: 21\n",
            "Accuracy on training set: 0.814307\n",
            "Accuracy on validation set: 0.518572\n",
            "Maximum Depth: 22\n",
            "Accuracy on training set: 0.836894\n",
            "Accuracy on validation set: 0.514707\n",
            "Maximum Depth: 23\n",
            "Accuracy on training set: 0.858499\n",
            "Accuracy on validation set: 0.507435\n",
            "Maximum Depth: 24\n",
            "Accuracy on training set: 0.877197\n",
            "Accuracy on validation set: 0.505241\n",
            "Maximum Depth: 25\n",
            "Accuracy on training set: 0.894997\n",
            "Accuracy on validation set: 0.501998\n",
            "Maximum Depth: 26\n",
            "Accuracy on training set: 0.911969\n",
            "Accuracy on validation set: 0.493809\n",
            "Maximum Depth: 27\n",
            "Accuracy on training set: 0.928491\n",
            "Accuracy on validation set: 0.491811\n"
          ],
          "name": "stdout"
        }
      ]
    },
    {
      "cell_type": "code",
      "metadata": {
        "id": "APaiVDPXyP-G",
        "colab_type": "code",
        "outputId": "a1ab9eb1-9430-4dff-da33-a8a489db9b10",
        "colab": {
          "base_uri": "https://localhost:8080/",
          "height": 68
        }
      },
      "source": [
        "bestDepth = 7\n",
        "print(\"Maximum Depth: \" + str(bestDepth))\n",
        "tree = treeClassify(max_depth= bestDepth, random_state=0)\n",
        "tree.fit(X_train_tf, y_train)\n",
        "y_pred = tree.predict(X_valid_tf)\n",
        "print(\"Accuracy on training set: {:f}\".format(tree.score(X_train_tf, y_train)))\n",
        "print(\"Accuracy on validation set: {:f}\".format(tree.score(X_valid_tf, y_valid)))"
      ],
      "execution_count": 0,
      "outputs": [
        {
          "output_type": "stream",
          "text": [
            "Maximum Depth: 7\n",
            "Accuracy on training set: 0.582908\n",
            "Accuracy on validation set: 0.578611\n"
          ],
          "name": "stdout"
        }
      ]
    },
    {
      "cell_type": "code",
      "metadata": {
        "id": "9cl8V6aPzYYr",
        "colab_type": "code",
        "outputId": "7d0cb742-4dd5-4ad6-e3fc-bb56ffd5085f",
        "colab": {
          "base_uri": "https://localhost:8080/",
          "height": 187
        }
      },
      "source": [
        "print(classification_report(y_valid, y_pred)) "
      ],
      "execution_count": 0,
      "outputs": [
        {
          "output_type": "stream",
          "text": [
            "              precision    recall  f1-score   support\n",
            "\n",
            "           0       0.49      0.32      0.39     10661\n",
            "           1       0.41      0.02      0.04      3320\n",
            "           2       0.61      0.86      0.71     16549\n",
            "\n",
            "    accuracy                           0.58     30530\n",
            "   macro avg       0.50      0.40      0.38     30530\n",
            "weighted avg       0.54      0.58      0.53     30530\n",
            "\n"
          ],
          "name": "stdout"
        }
      ]
    },
    {
      "cell_type": "code",
      "metadata": {
        "id": "t-EkAWb8gY08",
        "colab_type": "code",
        "outputId": "e45eaeaa-fed6-415a-a6d4-105cc9c6beed",
        "colab": {
          "base_uri": "https://localhost:8080/",
          "height": 187
        }
      },
      "source": [
        "cm =  confusion_matrix(y_valid, y_pred)\n",
        "\n",
        "print('True positive = ', cm[0][0])\n",
        "print('False positive = ', cm[0][1])\n",
        "print('False negative = ', cm[1][0])\n",
        "print('True negative = ', cm[1][1])\n",
        "recall = np.diag(cm) / np.sum(cm, axis = 1)\n",
        "precision = np.diag(cm) / np.sum(cm, axis = 0)\n",
        "\n",
        "print(\"\\nRecall: \", recall)\n",
        "print(\"Precision: \", precision)\n",
        "print(\"\\nOverall measures of Recall: \", np.mean(recall))\n",
        "print(\"Overall measures of Precision: \", np.mean(precision))"
      ],
      "execution_count": 0,
      "outputs": [
        {
          "output_type": "stream",
          "text": [
            "True positive =  3425\n",
            "False positive =  84\n",
            "False negative =  1248\n",
            "True negative =  74\n",
            "\n",
            "Recall:  [0.32126442 0.02228916 0.85600338]\n",
            "Precision:  [0.4869899  0.40883978 0.60756562]\n",
            "\n",
            "Overall measures of Recall:  0.3998523207469374\n",
            "Overall measures of Precision:  0.5011317679717778\n"
          ],
          "name": "stdout"
        }
      ]
    },
    {
      "cell_type": "markdown",
      "metadata": {
        "id": "jncrRoNMRhBp",
        "colab_type": "text"
      },
      "source": [
        "# AUC for Decision Tree"
      ]
    },
    {
      "cell_type": "code",
      "metadata": {
        "id": "-8GLwSkr0CSe",
        "colab_type": "code",
        "colab": {}
      },
      "source": [
        "myDepth = np.linspace(1, 27, 27)\n",
        "AUCtrainD = np.zeros(myDepth.shape[0])\n",
        "AUCvalD = np.zeros(myDepth.shape[0])\n",
        "\n",
        "for i, newDepth in enumerate(myDepth):\n",
        "    tree = treeClassify(max_depth=newDepth, random_state=0)\n",
        "    tree.fit(X_train, y_train)\n",
        "    AUCtrainD[i] = tree.score(X_train, y_train)\n",
        "    AUCvalD[i] = tree.score(X_valid, y_valid)"
      ],
      "execution_count": 0,
      "outputs": []
    },
    {
      "cell_type": "code",
      "metadata": {
        "id": "dvCTgyUX0E5B",
        "colab_type": "code",
        "outputId": "f6da0b1d-87c9-4be4-95f9-23da25544d3a",
        "colab": {
          "base_uri": "https://localhost:8080/",
          "height": 497
        }
      },
      "source": [
        "f, ax = plt.subplots(1, 1, figsize=(10, 8))\n",
        "ax.plot(myDepth, AUCtrainD, lw=3, color='blue', alpha=0.75, label= 'AUC training values')\n",
        "ax.plot(myDepth, AUCvalD, lw=3, color='red', alpha=0.75, label= 'AUC test values')\n",
        "\n",
        "\n",
        "ax.set_xlabel(\"Decision Tree Maximum Depth\")\n",
        "ax.legend(fontsize = 15)\n",
        "plt.show()"
      ],
      "execution_count": 0,
      "outputs": [
        {
          "output_type": "display_data",
          "data": {
            "image/png": "[encoded data removed]",
            "text/plain": [
              "<Figure size 720x576 with 1 Axes>"
            ]
          },
          "metadata": {
            "tags": []
          }
        }
      ]
    },
    {
      "cell_type": "markdown",
      "metadata": {
        "id": "4jCbB--PQxlC",
        "colab_type": "text"
      },
      "source": [
        "# Random Forest\n"
      ]
    },
    {
      "cell_type": "code",
      "metadata": {
        "id": "heFZ3eXizjd_",
        "colab_type": "code",
        "outputId": "71d6be40-9b19-479b-9a2e-ee1691c319bd",
        "colab": {
          "base_uri": "https://localhost:8080/",
          "height": 51
        }
      },
      "source": [
        "rf = RandomForestClassifier(n_estimators=100, random_state=0)\n",
        "rf.fit(X_train_tf,  y_train)\n",
        "rf_predict = rf.predict(X_valid_tf)\n",
        "print(\"Accuracy on training set for random forest: {:.6f}\".format(rf.score(X_trainSub, Y_trainSub)))\n",
        "print(\"Accuracy on test set for random forest: {:.6f}\".format(rf.score(X_valid, y_valid)))"
      ],
      "execution_count": 0,
      "outputs": [
        {
          "output_type": "stream",
          "text": [
            "Accuracy on training set for random forest: 0.544800\n",
            "Accuracy on test set for random forest: 0.543400\n"
          ],
          "name": "stdout"
        }
      ]
    },
    {
      "cell_type": "code",
      "metadata": {
        "id": "nfdVXY97zU65",
        "colab_type": "code",
        "outputId": "9b61c31e-ba23-469f-c145-c93df8b9b5d7",
        "colab": {
          "base_uri": "https://localhost:8080/",
          "height": 187
        }
      },
      "source": [
        "print(classification_report(y_valid, rf_predict)) "
      ],
      "execution_count": 0,
      "outputs": [
        {
          "output_type": "stream",
          "text": [
            "              precision    recall  f1-score   support\n",
            "\n",
            "           0       0.49      0.37      0.42     10661\n",
            "           1       0.40      0.02      0.04      3320\n",
            "           2       0.62      0.83      0.71     16549\n",
            "\n",
            "    accuracy                           0.58     30530\n",
            "   macro avg       0.50      0.41      0.39     30530\n",
            "weighted avg       0.55      0.58      0.54     30530\n",
            "\n"
          ],
          "name": "stdout"
        }
      ]
    },
    {
      "cell_type": "code",
      "metadata": {
        "id": "iajJiEwl9yeV",
        "colab_type": "code",
        "outputId": "e8f97633-1917-48ce-bf8c-62d3d79147fb",
        "colab": {
          "base_uri": "https://localhost:8080/",
          "height": 187
        }
      },
      "source": [
        "cm =  confusion_matrix(y_valid, rf_predict)\n",
        "\n",
        "print('True positive = ', cm[0][0])\n",
        "print('False positive = ', cm[0][1])\n",
        "print('False negative = ', cm[1][0])\n",
        "print('True negative = ', cm[1][1])\n",
        "recall = np.diag(cm) / np.sum(cm, axis = 1)\n",
        "precision = np.diag(cm) / np.sum(cm, axis = 0)\n",
        "\n",
        "print(\"\\nRecall: \", recall)\n",
        "print(\"Precision: \", precision)\n",
        "print(\"\\nOverall measures of Recall: \", np.mean(recall))\n",
        "print(\"Overall measures of Precision: \", np.mean(precision))\n"
      ],
      "execution_count": 0,
      "outputs": [
        {
          "output_type": "stream",
          "text": [
            "True positive =  3962\n",
            "False positive =  75\n",
            "False negative =  1331\n",
            "True negative =  76\n",
            "\n",
            "Recall:  [0.37163493 0.02289157 0.82977823]\n",
            "Precision:  [0.491015   0.39583333 0.61664197]\n",
            "\n",
            "Overall measures of Recall:  0.4081015772188617\n",
            "Overall measures of Precision:  0.5011634325505747\n"
          ],
          "name": "stdout"
        }
      ]
    },
    {
      "cell_type": "markdown",
      "metadata": {
        "id": "ZYob0P000oLj",
        "colab_type": "text"
      },
      "source": [
        "# Gradient Boosting Classifier"
      ]
    },
    {
      "cell_type": "code",
      "metadata": {
        "id": "MIXC9YuJ19rS",
        "colab_type": "code",
        "outputId": "95200f5a-40d5-43b2-8cf5-d307a775e404",
        "colab": {
          "base_uri": "https://localhost:8080/",
          "height": 374
        }
      },
      "source": [
        "lr_list = [0.05, 0.075, 0.1, 0.25, 0.5, 0.75, 1]\n",
        "\n",
        "for learning_rate in lr_list:\n",
        "    gb_clf = GradientBoostingClassifier(n_estimators=20, learning_rate=learning_rate, max_features=2, max_depth=2, random_state=0)\n",
        "    gb_clf.fit(X_trainSub, Y_trainSub)\n",
        "    gb_clf_predict = gb_clf.predict(X_valid_tf)\n",
        "\n",
        "    print(\"Learning rate: \", learning_rate)\n",
        "    print(\"Accuracy score (training): {0:.6f}\".format(gb_clf.score(X_trainSub, Y_trainSub)))\n",
        "    print(\"Accuracy score (validation): {0:.6f}\".format(gb_clf.score(X_valid, y_valid)))"
      ],
      "execution_count": 0,
      "outputs": [
        {
          "output_type": "stream",
          "text": [
            "Learning rate:  0.05\n",
            "Accuracy score (training): 0.542600\n",
            "Accuracy score (validation): 0.542057\n",
            "Learning rate:  0.075\n",
            "Accuracy score (training): 0.542600\n",
            "Accuracy score (validation): 0.542057\n",
            "Learning rate:  0.1\n",
            "Accuracy score (training): 0.542600\n",
            "Accuracy score (validation): 0.542057\n",
            "Learning rate:  0.25\n",
            "Accuracy score (training): 0.544800\n",
            "Accuracy score (validation): 0.542941\n",
            "Learning rate:  0.5\n",
            "Accuracy score (training): 0.558400\n",
            "Accuracy score (validation): 0.555486\n",
            "Learning rate:  0.75\n",
            "Accuracy score (training): 0.575600\n",
            "Accuracy score (validation): 0.562823\n",
            "Learning rate:  1\n",
            "Accuracy score (training): 0.579400\n",
            "Accuracy score (validation): 0.566885\n"
          ],
          "name": "stdout"
        }
      ]
    },
    {
      "cell_type": "code",
      "metadata": {
        "id": "7aRV_K7evuDF",
        "colab_type": "code",
        "outputId": "3a24c71e-f4b6-404d-cddc-12f6a6e414ad",
        "colab": {
          "base_uri": "https://localhost:8080/",
          "height": 187
        }
      },
      "source": [
        "print(classification_report(y_valid, gb_clf_predict)) "
      ],
      "execution_count": 0,
      "outputs": [
        {
          "output_type": "stream",
          "text": [
            "              precision    recall  f1-score   support\n",
            "\n",
            "           0       0.35      0.89      0.50     10661\n",
            "           1       0.11      0.00      0.01      3320\n",
            "           2       0.56      0.12      0.19     16549\n",
            "\n",
            "    accuracy                           0.37     30530\n",
            "   macro avg       0.34      0.34      0.23     30530\n",
            "weighted avg       0.44      0.37      0.28     30530\n",
            "\n"
          ],
          "name": "stdout"
        }
      ]
    },
    {
      "cell_type": "code",
      "metadata": {
        "id": "NaAZGmRNc8O2",
        "colab_type": "code",
        "outputId": "b35289ee-1252-46e9-ce4c-b645b9ed490d",
        "colab": {
          "base_uri": "https://localhost:8080/",
          "height": 187
        }
      },
      "source": [
        "cm =  confusion_matrix(y_valid, gb_clf_predict)\n",
        "\n",
        "print('True positive = ', cm[0][0])\n",
        "print('False positive = ', cm[0][1])\n",
        "print('False negative = ', cm[1][0])\n",
        "print('True negative = ', cm[1][1])\n",
        "recall = np.diag(cm) / np.sum(cm, axis = 1)\n",
        "precision = np.diag(cm) / np.sum(cm, axis = 0)\n",
        "\n",
        "print(\"\\nRecall: \", recall)\n",
        "print(\"Precision: \", precision)\n",
        "print(\"\\nOverall measures of Recall: \", np.mean(recall))\n",
        "print(\"Overall measures of Precision: \", np.mean(precision))"
      ],
      "execution_count": 0,
      "outputs": [
        {
          "output_type": "stream",
          "text": [
            "True positive =  9458\n",
            "False positive =  45\n",
            "False negative =  2967\n",
            "True negative =  14\n",
            "\n",
            "Recall:  [0.8871588  0.00421687 0.1151127 ]\n",
            "Precision:  [0.35024441 0.11290323 0.55996473]\n",
            "\n",
            "Overall measures of Recall:  0.3354961220717299\n",
            "Overall measures of Precision:  0.3410374535578873\n"
          ],
          "name": "stdout"
        }
      ]
    },
    {
      "cell_type": "markdown",
      "metadata": {
        "id": "NMbqZJZK2td6",
        "colab_type": "text"
      },
      "source": [
        "it looks like a learning rate of 1 gives us the best performance on the validation set and good performance on the training set."
      ]
    },
    {
      "cell_type": "markdown",
      "metadata": {
        "id": "YCaOFEqWQ35x",
        "colab_type": "text"
      },
      "source": [
        "# SVC"
      ]
    },
    {
      "cell_type": "code",
      "metadata": {
        "id": "wg1krsBQE5XZ",
        "colab_type": "code",
        "outputId": "7042ad25-5e97-4e08-e420-b5c6e1c3eaad",
        "colab": {
          "base_uri": "https://localhost:8080/",
          "height": 341
        }
      },
      "source": [
        "svc = SVC(kernel = \"linear\")\n",
        "svc.fit(X_train, y_train)\n",
        "svc_predict = svc.predict(X_valid_tf)"
      ],
      "execution_count": 0,
      "outputs": [
        {
          "output_type": "error",
          "ename": "KeyboardInterrupt",
          "evalue": "ignored",
          "traceback": [
            "\u001b[0;31m---------------------------------------------------------------------------\u001b[0m",
            "\u001b[0;31mKeyboardInterrupt\u001b[0m                         Traceback (most recent call last)",
            "\u001b[0;32m<ipython-input-26-4e689323b10e>\u001b[0m in \u001b[0;36m<module>\u001b[0;34m()\u001b[0m\n\u001b[1;32m      1\u001b[0m \u001b[0msvc\u001b[0m \u001b[0;34m=\u001b[0m \u001b[0mSVC\u001b[0m\u001b[0;34m(\u001b[0m\u001b[0mkernel\u001b[0m \u001b[0;34m=\u001b[0m \u001b[0;34m\"linear\"\u001b[0m\u001b[0;34m)\u001b[0m\u001b[0;34m\u001b[0m\u001b[0;34m\u001b[0m\u001b[0m\n\u001b[0;32m----> 2\u001b[0;31m \u001b[0msvc\u001b[0m\u001b[0;34m.\u001b[0m\u001b[0mfit\u001b[0m\u001b[0;34m(\u001b[0m\u001b[0mX_train\u001b[0m\u001b[0;34m,\u001b[0m \u001b[0my_train\u001b[0m\u001b[0;34m)\u001b[0m\u001b[0;34m\u001b[0m\u001b[0;34m\u001b[0m\u001b[0m\n\u001b[0m\u001b[1;32m      3\u001b[0m \u001b[0msvc_predict\u001b[0m \u001b[0;34m=\u001b[0m \u001b[0msvc\u001b[0m\u001b[0;34m.\u001b[0m\u001b[0mpredict\u001b[0m\u001b[0;34m(\u001b[0m\u001b[0mX_valid_tf\u001b[0m\u001b[0;34m)\u001b[0m\u001b[0;34m\u001b[0m\u001b[0;34m\u001b[0m\u001b[0m\n",
            "\u001b[0;32m/usr/local/lib/python3.6/dist-packages/sklearn/svm/_base.py\u001b[0m in \u001b[0;36mfit\u001b[0;34m(self, X, y, sample_weight)\u001b[0m\n\u001b[1;32m    197\u001b[0m \u001b[0;34m\u001b[0m\u001b[0m\n\u001b[1;32m    198\u001b[0m         \u001b[0mseed\u001b[0m \u001b[0;34m=\u001b[0m \u001b[0mrnd\u001b[0m\u001b[0;34m.\u001b[0m\u001b[0mrandint\u001b[0m\u001b[0;34m(\u001b[0m\u001b[0mnp\u001b[0m\u001b[0;34m.\u001b[0m\u001b[0miinfo\u001b[0m\u001b[0;34m(\u001b[0m\u001b[0;34m'i'\u001b[0m\u001b[0;34m)\u001b[0m\u001b[0;34m.\u001b[0m\u001b[0mmax\u001b[0m\u001b[0;34m)\u001b[0m\u001b[0;34m\u001b[0m\u001b[0;34m\u001b[0m\u001b[0m\n\u001b[0;32m--> 199\u001b[0;31m         \u001b[0mfit\u001b[0m\u001b[0;34m(\u001b[0m\u001b[0mX\u001b[0m\u001b[0;34m,\u001b[0m \u001b[0my\u001b[0m\u001b[0;34m,\u001b[0m \u001b[0msample_weight\u001b[0m\u001b[0;34m,\u001b[0m \u001b[0msolver_type\u001b[0m\u001b[0;34m,\u001b[0m \u001b[0mkernel\u001b[0m\u001b[0;34m,\u001b[0m \u001b[0mrandom_seed\u001b[0m\u001b[0;34m=\u001b[0m\u001b[0mseed\u001b[0m\u001b[0;34m)\u001b[0m\u001b[0;34m\u001b[0m\u001b[0;34m\u001b[0m\u001b[0m\n\u001b[0m\u001b[1;32m    200\u001b[0m         \u001b[0;31m# see comment on the other call to np.iinfo in this file\u001b[0m\u001b[0;34m\u001b[0m\u001b[0;34m\u001b[0m\u001b[0;34m\u001b[0m\u001b[0m\n\u001b[1;32m    201\u001b[0m \u001b[0;34m\u001b[0m\u001b[0m\n",
            "\u001b[0;32m/usr/local/lib/python3.6/dist-packages/sklearn/svm/_base.py\u001b[0m in \u001b[0;36m_dense_fit\u001b[0;34m(self, X, y, sample_weight, solver_type, kernel, random_seed)\u001b[0m\n\u001b[1;32m    256\u001b[0m                 \u001b[0mcache_size\u001b[0m\u001b[0;34m=\u001b[0m\u001b[0mself\u001b[0m\u001b[0;34m.\u001b[0m\u001b[0mcache_size\u001b[0m\u001b[0;34m,\u001b[0m \u001b[0mcoef0\u001b[0m\u001b[0;34m=\u001b[0m\u001b[0mself\u001b[0m\u001b[0;34m.\u001b[0m\u001b[0mcoef0\u001b[0m\u001b[0;34m,\u001b[0m\u001b[0;34m\u001b[0m\u001b[0;34m\u001b[0m\u001b[0m\n\u001b[1;32m    257\u001b[0m                 \u001b[0mgamma\u001b[0m\u001b[0;34m=\u001b[0m\u001b[0mself\u001b[0m\u001b[0;34m.\u001b[0m\u001b[0m_gamma\u001b[0m\u001b[0;34m,\u001b[0m \u001b[0mepsilon\u001b[0m\u001b[0;34m=\u001b[0m\u001b[0mself\u001b[0m\u001b[0;34m.\u001b[0m\u001b[0mepsilon\u001b[0m\u001b[0;34m,\u001b[0m\u001b[0;34m\u001b[0m\u001b[0;34m\u001b[0m\u001b[0m\n\u001b[0;32m--> 258\u001b[0;31m                 max_iter=self.max_iter, random_seed=random_seed)\n\u001b[0m\u001b[1;32m    259\u001b[0m \u001b[0;34m\u001b[0m\u001b[0m\n\u001b[1;32m    260\u001b[0m         \u001b[0mself\u001b[0m\u001b[0;34m.\u001b[0m\u001b[0m_warn_from_fit_status\u001b[0m\u001b[0;34m(\u001b[0m\u001b[0;34m)\u001b[0m\u001b[0;34m\u001b[0m\u001b[0;34m\u001b[0m\u001b[0m\n",
            "\u001b[0;31mKeyboardInterrupt\u001b[0m: "
          ]
        }
      ]
    },
    {
      "cell_type": "code",
      "metadata": {
        "id": "uxqzEx7gwIOn",
        "colab_type": "code",
        "colab": {}
      },
      "source": [
        "print(\"Accuracy on training set: {:.6f}\".format(svc.score(X_train, y_train)))\n",
        "print(\"Accuracy on test set: {:.6f}\".format(svc.score(X_valid, y_valid)))"
      ],
      "execution_count": 0,
      "outputs": []
    },
    {
      "cell_type": "code",
      "metadata": {
        "id": "MTJJ41Am2h3X",
        "colab_type": "code",
        "colab": {}
      },
      "source": [
        "scaler = MinMaxScaler()\n",
        "X_train_scaled = scaler.fit_transform(X_train)\n",
        "X_test_scaled = scaler.fit_transform(X_valid)\n",
        "svc = SVC()\n",
        "svc.fit(X_train_scaled, y_train)\n",
        "svc_predict = svc.predict(X_train_scaled)"
      ],
      "execution_count": 0,
      "outputs": []
    },
    {
      "cell_type": "code",
      "metadata": {
        "id": "v8Ij7hnKI7lr",
        "colab_type": "code",
        "colab": {}
      },
      "source": [
        "# Transformed\n",
        "print(\"Accuracy on training set: {:.6f}\".format(svc.score(Xtr, Ytr)))\n",
        "print(\"Accuracy on test set: {:.6f}\".format(svc.score(X_test_scaled, Yva)))"
      ],
      "execution_count": 0,
      "outputs": []
    },
    {
      "cell_type": "code",
      "metadata": {
        "id": "fmfTfaaCGD6d",
        "colab_type": "code",
        "colab": {}
      },
      "source": [
        "cm =  confusion_matrix(y_valid, svc_predict)\n",
        "\n",
        "print('True positive = ', cm[0][0])\n",
        "print('False positive = ', cm[0][1])\n",
        "print('False negative = ', cm[1][0])\n",
        "print('True negative = ', cm[1][1])\n",
        "recall = np.diag(cm) / np.sum(cm, axis = 1)\n",
        "precision = np.diag(cm) / np.sum(cm, axis = 0)\n",
        "\n",
        "print(\"\\nRecall: \", recall)\n",
        "print(\"Precision: \", precision)\n",
        "print(\"\\nOverall measures of Recall: \", np.mean(recall))\n",
        "print(\"Overall measures of Precision: \", np.mean(precision))"
      ],
      "execution_count": 0,
      "outputs": []
    },
    {
      "cell_type": "markdown",
      "metadata": {
        "id": "v7v7GTjwvT_o",
        "colab_type": "text"
      },
      "source": [
        "# GridsearchCV"
      ]
    },
    {
      "cell_type": "code",
      "metadata": {
        "id": "FaHazrwauDnh",
        "colab_type": "code",
        "outputId": "4f8f6280-becb-4164-eec2-d5ff0f851377",
        "colab": {
          "base_uri": "https://localhost:8080/",
          "height": 170
        }
      },
      "source": [
        "param_grid = {'C': [0.1, 1, 10, 100, 1000],  \n",
        "              'gamma': [1, 0.1, 0.01, 0.001, 0.0001], \n",
        "              'kernel': ['rbf']}  \n",
        "  \n",
        "grid = GridSearchCV(SVC(kernel = \"linear\"), param_grid, refit = True, verbose = 3) \n",
        "\n",
        "# fitting the model for grid search \n",
        "grid.fit(X_train, y_train)\n",
        "\n",
        "grid_predictions = grid.predict(X_valid_tf) "
      ],
      "execution_count": 0,
      "outputs": [
        {
          "output_type": "stream",
          "text": [
            "Fitting 5 folds for each of 25 candidates, totalling 125 fits\n",
            "[CV] C=0.1, gamma=1, kernel=rbf ......................................\n"
          ],
          "name": "stdout"
        },
        {
          "output_type": "stream",
          "text": [
            "[Parallel(n_jobs=1)]: Using backend SequentialBackend with 1 concurrent workers.\n"
          ],
          "name": "stderr"
        },
        {
          "output_type": "stream",
          "text": [
            "[CV] ......... C=0.1, gamma=1, kernel=rbf, score=0.538, total=128.4min\n",
            "[CV] C=0.1, gamma=1, kernel=rbf ......................................\n"
          ],
          "name": "stdout"
        },
        {
          "output_type": "stream",
          "text": [
            "[Parallel(n_jobs=1)]: Done   1 out of   1 | elapsed: 128.4min remaining:    0.0s\n"
          ],
          "name": "stderr"
        },
        {
          "output_type": "stream",
          "text": [
            "[CV] ......... C=0.1, gamma=1, kernel=rbf, score=0.538, total=129.2min\n",
            "[CV] C=0.1, gamma=1, kernel=rbf ......................................\n"
          ],
          "name": "stdout"
        },
        {
          "output_type": "stream",
          "text": [
            "[Parallel(n_jobs=1)]: Done   2 out of   2 | elapsed: 257.6min remaining:    0.0s\n"
          ],
          "name": "stderr"
        }
      ]
    },
    {
      "cell_type": "code",
      "metadata": {
        "id": "v7knyDluuYPC",
        "colab_type": "code",
        "colab": {}
      },
      "source": [
        "# print best parameter after tuning \n",
        "print(grid.best_params_) \n",
        "  \n",
        "# print how our model looks after hyper-parameter tuning \n",
        "print(grid.best_estimator_)"
      ],
      "execution_count": 0,
      "outputs": []
    },
    {
      "cell_type": "code",
      "metadata": {
        "id": "xVPdqXdNuhZY",
        "colab_type": "code",
        "colab": {}
      },
      "source": [
        "# print classification report \n",
        "print(classification_report(y_valid, grid_predictions)) "
      ],
      "execution_count": 0,
      "outputs": []
    },
    {
      "cell_type": "code",
      "metadata": {
        "id": "Sk6wDjUrvNie",
        "colab_type": "code",
        "colab": {}
      },
      "source": [
        "cm =  confusion_matrix(y_valid, grid_predictions)\n",
        "\n",
        "print('True positive = ', cm[0][0])\n",
        "print('False positive = ', cm[0][1])\n",
        "print('False negative = ', cm[1][0])\n",
        "print('True negative = ', cm[1][1])\n",
        "recall = np.diag(cm) / np.sum(cm, axis = 1)\n",
        "precision = np.diag(cm) / np.sum(cm, axis = 0)\n",
        "\n",
        "print(\"\\nRecall: \", recall)\n",
        "print(\"Precision: \", precision)\n",
        "print(\"\\nOverall measures of Recall: \", np.mean(recall))\n",
        "print(\"Overall measures of Precision: \", np.mean(precision))"
      ],
      "execution_count": 0,
      "outputs": []
    },
    {
      "cell_type": "markdown",
      "metadata": {
        "id": "2ezwMesgQtiR",
        "colab_type": "text"
      },
      "source": [
        "# Neural Network (Not Used)"
      ]
    },
    {
      "cell_type": "code",
      "metadata": {
        "id": "K6wQfjxI__tm",
        "colab_type": "code",
        "colab": {}
      },
      "source": [
        "# mlp = MLPClassifier(hidden_layer_sizes=(8,8,8), activation='relu', solver='adam', max_iter=5000)\n",
        "# mlp.fit(Xtr,Ytr)\n",
        "\n",
        "# predict_train = mlp.predict(Xtr)\n",
        "# predict_test = mlp.predict(Xt)\n",
        "\n",
        "# print(confusion_matrix(Ytr,predict_train))\n",
        "# print(classification_report(Ytr,predict_train, digits = 6))\n",
        "\n",
        "# print(confusion_matrix(Yt,predict_test))\n",
        "# print(classification_report(Yt,predict_test, digits = 6))"
      ],
      "execution_count": 0,
      "outputs": []
    },
    {
      "cell_type": "code",
      "metadata": {
        "id": "vMt6wtBBQorn",
        "colab_type": "code",
        "colab": {}
      },
      "source": [
        "# plt.figure(figsize=(20, 5))\n",
        "# plt.imshow(mlp.coefs_[0], interpolation='none', cmap='viridis')\n",
        "# plt.yticks(range(11), diabetes_features)\n",
        "# plt.xlabel(\"Columns in weight matrix\")\n",
        "# plt.ylabel(\"Input feature\")\n",
        "# plt.colorbar()"
      ],
      "execution_count": 0,
      "outputs": []
    },
    {
      "cell_type": "code",
      "metadata": {
        "id": "CmiZUEPya5Ok",
        "colab_type": "code",
        "colab": {}
      },
      "source": [
        "# rf = RandomForestClassifier(n_estimators=100, random_state=0)\n",
        "# rf.fit(X_trainSub, Y_trainSub)\n",
        "# print(\"Accuracy on training set for random forest: {:.6f}\".format(rf.score(X_train, y_train)))\n",
        "# print(\"Accuracy on test set for random forest: {:.6f}\".format(rf.score(X_valid, y_valid)))"
      ],
      "execution_count": 0,
      "outputs": []
    },
    {
      "cell_type": "code",
      "metadata": {
        "id": "45Ed25XKQlgn",
        "colab_type": "code",
        "colab": {}
      },
      "source": [
        "# plt.figure(figsize=(20, 5))\n",
        "# plt.imshow(mlp.coefs_[0], interpolation='none', cmap='viridis')\n",
        "# plt.yticks(range(11), diabetes_features)\n",
        "# plt.xlabel(\"Columns in weight matrix\")\n",
        "# plt.ylabel(\"Input feature\")\n",
        "# plt.colorbar()"
      ],
      "execution_count": 0,
      "outputs": []
    }
  ]
}